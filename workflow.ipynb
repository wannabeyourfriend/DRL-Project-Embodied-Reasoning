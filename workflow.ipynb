{
 "cells": [
  {
   "cell_type": "code",
   "execution_count": null,
   "metadata": {
    "vscode": {
     "languageId": "plaintext"
    }
   },
   "outputs": [],
   "source": [
    "import zipfile\n",
    "import os\n",
    "\n",
    "def unzip_file(zip_path, extract_to):\n",
    "    # 确保目标文件夹存在，如果不存在则创建\n",
    "    if not os.path.exists(extract_to):\n",
    "        os.makedirs(extract_to)\n",
    "\n",
    "    # 打开 zip 文件并解压\n",
    "    with zipfile.ZipFile(zip_path, 'r') as zip_ref:\n",
    "        zip_ref.extractall(extract_to)\n",
    "        print(f\"文件已解压到：{extract_to}\")\n",
    "\n",
    "# 示例：解压文件\n",
    "zip_file_path = 'example.zip'  # 这里替换为你自己的 zip 文件路径\n",
    "output_directory = 'extracted_files'  # 你希望解压到的目标文件夹路径\n",
    "unzip_file(zip_file_path, output_directory)\n"
   ]
  }
 ],
 "metadata": {
  "language_info": {
   "name": "python"
  }
 },
 "nbformat": 4,
 "nbformat_minor": 2
}
